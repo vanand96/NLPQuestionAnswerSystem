{
 "cells": [
  {
   "cell_type": "markdown",
   "id": "d1940fe6-73dc-4c00-86f7-ae9490500edc",
   "metadata": {},
   "source": [
    "## This is a Q&A system using BERT model\n",
    "#### Note: Install the below python libraries before running this notebook\n",
    "#### pip install pandas\n",
    "#### pip install tensorflow==1.13.0rc1\n",
    "#### pip install statsmodel\n",
    "#### pip install sklearn\n",
    "#### Start the client by training the model\n",
    "#### Download a Pre-trained BERT Model and uncompress the zip file into a folder say cased_L-12_H-768_A-12/\n",
    "#### Note: You will have to download the BERT model from https://storage.googleapis.com/bert_models/2018_10_18/cased_L-12_H-768_A-12.zip\n",
    "#### bert-serving-start -model_dir cased_L-12_H-768_A-12 -num_worker=4 -max_seq_len=75"
   ]
  },
  {
   "cell_type": "code",
   "execution_count": 1,
   "id": "0cfc2abe-d291-4bac-99fc-3a066fd82470",
   "metadata": {},
   "outputs": [],
   "source": [
    "import pandas as pd\n",
    "from bert_serving.client import BertClient\n",
    "import numpy as np"
   ]
  },
  {
   "cell_type": "code",
   "execution_count": 2,
   "id": "6e137f90-9d70-4d27-a5e4-9b7e279fc027",
   "metadata": {},
   "outputs": [],
   "source": [
    "# Read all the predefined questios for housing data \n",
    "questions_data = pd.read_csv('AllQuestions.csv')"
   ]
  },
  {
   "cell_type": "code",
   "execution_count": 3,
   "id": "f0a01946-263e-4001-a6eb-38da1b818c0b",
   "metadata": {},
   "outputs": [],
   "source": [
    "def encode_questions():\n",
    "    bc = BertClient()\n",
    "    questions = questions_data[\"Question\"].values.tolist()\n",
    "    print(\"Questions count\", len(questions))\n",
    "    print(\"Start to calculate encoder....\")\n",
    "    questions_encoder = bc.encode(questions)\n",
    "    np.save(\"questions\", questions_encoder)\n",
    "    questions_encoder_len = np.sqrt(\n",
    "        np.sum(questions_encoder * questions_encoder, axis=1)\n",
    "    )\n",
    "    np.save(\"questions_len\", questions_encoder_len)\n",
    "    print(\"Encoder ready\")"
   ]
  },
  {
   "cell_type": "code",
   "execution_count": 4,
   "id": "0afbbfcb-6787-44e1-bfad-24a5ca6b06b9",
   "metadata": {},
   "outputs": [
    {
     "name": "stdout",
     "output_type": "stream",
     "text": [
      "Questions count 90\n",
      "Start to calculate encoder....\n",
      "Encoder ready\n",
      "Wall time: 11.9 s\n"
     ]
    }
   ],
   "source": [
    "%%time\n",
    "encode_questions()"
   ]
  },
  {
   "cell_type": "code",
   "execution_count": 5,
   "id": "d86d954f-9b3b-4e33-bf73-c0abc10f3d73",
   "metadata": {},
   "outputs": [],
   "source": [
    "# this function is used to get printable results\n",
    "def getResults(questions, fn):\n",
    "    def getResult(q):\n",
    "        answer, score, prediction = fn(q)\n",
    "        return [q, prediction, answer, score]\n",
    "\n",
    "    return pd.DataFrame(list(map(getResult, questions)), columns=[\"Q\", \"Prediction\", \"A\", \"Score\"])"
   ]
  },
  {
   "cell_type": "code",
   "execution_count": 6,
   "id": "2c5ebfe8-0b1c-4674-8f60-c4e0ae778201",
   "metadata": {},
   "outputs": [],
   "source": [
    "class BertAnswer():\n",
    "    def __init__(self):\n",
    "        self.bc = BertClient()\n",
    "        self.q_data = questions_data[\"Question\"].values.tolist()\n",
    "        self.a_data = questions_data[\"Answer\"].values.tolist()\n",
    "        self.questions_encoder = np.load(\"questions.npy\")\n",
    "        self.questions_encoder_len = np.load(\"questions_len.npy\")\n",
    "\n",
    "    def get(self, q):\n",
    "        query_vector = self.bc.encode([q])[0]\n",
    "        score = np.sum((query_vector * self.questions_encoder), axis=1) / (\n",
    "            self.questions_encoder_len * (np.sum(query_vector * query_vector) ** 0.5)\n",
    "        )\n",
    "        top_id = np.argsort(score)[::-1][0]\n",
    "        if float(score[top_id]) > 0.5:\n",
    "            return self.a_data[top_id], score[top_id], self.q_data[top_id]\n",
    "        return \"Sorry, I didn't get you.\", score[top_id], self.q_data[top_id]\n",
    "\n",
    "bm = BertAnswer()\n",
    "\n",
    "def getBertAnswer(q):\n",
    "    return bm.get(q)\n",
    "\n",
    "# print(getResults(questions_data, getBertAnswer))"
   ]
  },
  {
   "cell_type": "code",
   "execution_count": 7,
   "id": "0fcaf80e-b3aa-4de7-b7cc-27e5b33d9348",
   "metadata": {},
   "outputs": [
    {
     "name": "stderr",
     "output_type": "stream",
     "text": [
      "C:\\ProgramData\\Anaconda3\\envs\\test\\lib\\site-packages\\IPython\\core\\interactiveshell.py:3441: DtypeWarning: Columns (8) have mixed types.Specify dtype option on import or set low_memory=False.\n",
      "  exec(code_obj, self.user_global_ns, self.user_ns)\n"
     ]
    }
   ],
   "source": [
    "# Read the housing data from the Redfin Dataset\n",
    "redfin_data = pd.read_csv('CountyData\\AllCounties_Data.csv')\n",
    "redfin_data.columns= redfin_data.columns.str.lower()"
   ]
  },
  {
   "cell_type": "code",
   "execution_count": 8,
   "id": "6d466e87-00a7-47ad-b80f-cbf9db70c8fe",
   "metadata": {},
   "outputs": [
    {
     "data": {
      "text/plain": [
       "unnamed: 0                                                                                      int64\n",
       "unnamed: 0.1                                                                                    int64\n",
       "sale type                                                                                      object\n",
       "sold date                                                                                     float64\n",
       "property type                                                                                  object\n",
       "address                                                                                        object\n",
       "city                                                                                           object\n",
       "state or province                                                                              object\n",
       "zip or postal code                                                                             object\n",
       "price                                                                                         float64\n",
       "beds                                                                                          float64\n",
       "baths                                                                                         float64\n",
       "location                                                                                       object\n",
       "square feet                                                                                   float64\n",
       "lot size                                                                                      float64\n",
       "year built                                                                                    float64\n",
       "days on market                                                                                float64\n",
       "$/square feet                                                                                 float64\n",
       "hoa/month                                                                                     float64\n",
       "status                                                                                         object\n",
       "next open house start time                                                                     object\n",
       "next open house end time                                                                       object\n",
       "url (see http://www.redfin.com/buy-a-home/comparative-market-analysis for info on pricing)     object\n",
       "source                                                                                         object\n",
       "mls#                                                                                           object\n",
       "favorite                                                                                       object\n",
       "interested                                                                                     object\n",
       "latitude                                                                                      float64\n",
       "longitude                                                                                     float64\n",
       "dtype: object"
      ]
     },
     "execution_count": 8,
     "metadata": {},
     "output_type": "execute_result"
    }
   ],
   "source": [
    "# Check the data types of all the columns\n",
    "redfin_data.dtypes"
   ]
  },
  {
   "cell_type": "code",
   "execution_count": 9,
   "id": "d4db6509-df1d-43fd-9fc1-8839f7f02685",
   "metadata": {},
   "outputs": [],
   "source": [
    "# Fix the data types for the redfin data\n",
    "redfin_data['zip or postal code'] = redfin_data['zip or postal code'].astype(str)\n",
    "redfin_data['zip or postal code'] = redfin_data['zip or postal code'].str.replace(\".0\", \"\", regex=False)\n",
    "redfin_data['beds'] = redfin_data['beds'].fillna(0)\n",
    "redfin_data['beds'] = redfin_data['beds'].astype(int)\n",
    "redfin_data['baths'] = redfin_data['baths'].astype(str)\n",
    "redfin_data['baths'] = redfin_data['baths'].str.replace(\".0\", \"\", regex=False)\n",
    "redfin_data['price'] = redfin_data['price'].fillna(0)\n",
    "redfin_data['price'] = redfin_data['price'].astype(int)\n",
    "redfin_data['square feet'] = redfin_data['square feet'].fillna(0)\n",
    "redfin_data['square feet'] = redfin_data['square feet'].astype(int)\n",
    "redfin_data['lot size'] = redfin_data['lot size'].fillna(0)\n",
    "redfin_data['lot size'] = redfin_data['lot size'].astype(int)\n",
    "redfin_data['year built'] = redfin_data['year built'].fillna(0)\n",
    "redfin_data['year built'] = redfin_data['year built'].astype(int)\n",
    "redfin_data['days on market'] = redfin_data['days on market'].fillna(0)\n",
    "redfin_data['days on market'] = redfin_data['days on market'].astype(int)\n",
    "redfin_data['$/square feet'] = redfin_data['$/square feet'].map(lambda x: '{0:.2f}'.format(x)) \n",
    "redfin_data['hoa/month'] = redfin_data['hoa/month'].map(lambda x: '{0:.2f}'.format(x))"
   ]
  },
  {
   "cell_type": "code",
   "execution_count": 10,
   "id": "e68256e5-daf3-4133-8be1-1044b376563e",
   "metadata": {},
   "outputs": [],
   "source": [
    "# Select a random house for testing\n",
    "house_info = redfin_data.loc[2]"
   ]
  },
  {
   "cell_type": "code",
   "execution_count": 11,
   "id": "163389ce-9c21-4a7a-8122-e5c1f384739e",
   "metadata": {},
   "outputs": [],
   "source": [
    "q = 'What is the multi listing number of this house ?'\n",
    "question_answer = getBertAnswer(q)"
   ]
  },
  {
   "cell_type": "code",
   "execution_count": 12,
   "id": "6960afeb-ecbe-4598-9e7e-30fd3e77d2f5",
   "metadata": {},
   "outputs": [
    {
     "name": "stdout",
     "output_type": "stream",
     "text": [
      "Asked Question: What is the multi listing number of this house ?\n",
      "Related Question: What is the mls number of this house ?\n",
      "Related Data requested: mls#\n",
      "Requested Details: 21-100533\n"
     ]
    }
   ],
   "source": [
    "# Display the information for the user\n",
    "print('Asked Question: '+q)\n",
    "print('Related Question: '+question_answer[2])\n",
    "print('Related Data requested: '+question_answer[0])\n",
    "print('Requested Details: ' + str(house_info[question_answer[0]]))"
   ]
  }
 ],
 "metadata": {
  "kernelspec": {
   "display_name": "Python 3 (ipykernel)",
   "language": "python",
   "name": "python3"
  },
  "language_info": {
   "codemirror_mode": {
    "name": "ipython",
    "version": 3
   },
   "file_extension": ".py",
   "mimetype": "text/x-python",
   "name": "python",
   "nbconvert_exporter": "python",
   "pygments_lexer": "ipython3",
   "version": "3.7.6"
  }
 },
 "nbformat": 4,
 "nbformat_minor": 5
}
